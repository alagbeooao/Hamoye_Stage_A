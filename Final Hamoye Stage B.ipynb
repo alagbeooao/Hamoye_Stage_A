{
 "cells": [
  {
   "cell_type": "markdown",
   "id": "961e8baf",
   "metadata": {},
   "source": [
    "### (1) The percent of the total variation of the dependent variable Y explained by the set of independent variables X is measured by"
   ]
  },
  {
   "cell_type": "markdown",
   "id": "e43ed1cb",
   "metadata": {},
   "source": [
    "#### Ans = Coefficient of Determination"
   ]
  },
  {
   "cell_type": "markdown",
   "id": "ab1e66b6",
   "metadata": {},
   "source": [
    "### (2)How do you define a Residual?"
   ]
  },
  {
   "cell_type": "markdown",
   "id": "136fac1b",
   "metadata": {},
   "source": [
    "#### Ans = Y − Y"
   ]
  },
  {
   "cell_type": "markdown",
   "id": "f86d3431",
   "metadata": {},
   "source": [
    "### (3) The straight line graph of the equation Y = a + BX, the slope is horizontal if"
   ]
  },
  {
   "cell_type": "markdown",
   "id": "7489f632",
   "metadata": {},
   "source": [
    "#### Ans b = 0"
   ]
  },
  {
   "cell_type": "markdown",
   "id": "9be87e86",
   "metadata": {},
   "source": [
    "### (4) Which of the one is true about Heteroskedasticity?"
   ]
  },
  {
   "cell_type": "markdown",
   "id": "323454da",
   "metadata": {},
   "source": [
    "#### Ans = Linear Regression with varying error terms"
   ]
  },
  {
   "cell_type": "markdown",
   "id": "2a9d05ce",
   "metadata": {},
   "source": [
    "### (5) Generally, which of the following method(s) is used for predicting continuous dependent variables?"
   ]
  },
  {
   "cell_type": "markdown",
   "id": "91e35742",
   "metadata": {},
   "source": [
    "#### Ans = 1 only (Linear Regression)"
   ]
  },
  {
   "cell_type": "markdown",
   "id": "57eaf437",
   "metadata": {},
   "source": [
    "### (6) From the following options below, which of these is/are true about “Ridge” or “Lasso” regression methods in case of feature selection?"
   ]
  },
  {
   "cell_type": "markdown",
   "id": "c0546834",
   "metadata": {},
   "source": [
    "#### Ans = Both use subset selection of features"
   ]
  },
  {
   "cell_type": "markdown",
   "id": "59c1a93f",
   "metadata": {},
   "source": [
    "### (7) Which of the following sentences is/are true about outliers in Linear Regression:"
   ]
  },
  {
   "cell_type": "markdown",
   "id": "5e236813",
   "metadata": {},
   "source": [
    "\n",
    "#### Ans = Linear regression is sensitive to outliers"
   ]
  },
  {
   "cell_type": "markdown",
   "id": "6115d7f5",
   "metadata": {},
   "source": [
    "### (8) Which of the following metrics can be used for evaluating regression models?"
   ]
  },
  {
   "cell_type": "markdown",
   "id": "03110c69",
   "metadata": {},
   "source": [
    "#### ANs = 1, 2, 3 and 4"
   ]
  },
  {
   "cell_type": "markdown",
   "id": "1b4eb5f9",
   "metadata": {},
   "source": [
    "### (9) A best fit line relating X and Y has a R-Squared value of 0.75. How do I interpret this information?"
   ]
  },
  {
   "cell_type": "markdown",
   "id": "fdee88dd",
   "metadata": {},
   "source": [
    "#### Ans = 75% of the variance in Y is explained by X, X and Y are 75% related"
   ]
  },
  {
   "cell_type": "markdown",
   "id": "b605276c",
   "metadata": {},
   "source": [
    "### (10) Which of the following measures is optimal for comparing the goodness of the fit of competing regression models involving the same dependent variable?"
   ]
  },
  {
   "cell_type": "markdown",
   "id": "bf024c27",
   "metadata": {},
   "source": [
    "#### Ans = R-square"
   ]
  },
  {
   "cell_type": "markdown",
   "id": "175d0bfb",
   "metadata": {},
   "source": [
    "### (11) The Lasso can be interpreted as least-squares linear regression where:"
   ]
  },
  {
   "cell_type": "markdown",
   "id": "8f9c4c95",
   "metadata": {},
   "source": [
    "#### Ans =  Weights are regularized with the L1 norm"
   ]
  },
  {
   "cell_type": "code",
   "execution_count": 1,
   "id": "1e5d4749",
   "metadata": {},
   "outputs": [],
   "source": [
    "#import required libraries\n",
    "import pandas as pd \n",
    "import numpy as np\n",
    "import seaborn as sns\n",
    "import matplotlib.pyplot as plt"
   ]
  },
  {
   "cell_type": "code",
   "execution_count": 2,
   "id": "4646e911",
   "metadata": {},
   "outputs": [
    {
     "data": {
      "text/html": [
       "<div>\n",
       "<style scoped>\n",
       "    .dataframe tbody tr th:only-of-type {\n",
       "        vertical-align: middle;\n",
       "    }\n",
       "\n",
       "    .dataframe tbody tr th {\n",
       "        vertical-align: top;\n",
       "    }\n",
       "\n",
       "    .dataframe thead th {\n",
       "        text-align: right;\n",
       "    }\n",
       "</style>\n",
       "<table border=\"1\" class=\"dataframe\">\n",
       "  <thead>\n",
       "    <tr style=\"text-align: right;\">\n",
       "      <th></th>\n",
       "      <th>date</th>\n",
       "      <th>Appliances</th>\n",
       "      <th>lights</th>\n",
       "      <th>T1</th>\n",
       "      <th>RH_1</th>\n",
       "      <th>T2</th>\n",
       "      <th>RH_2</th>\n",
       "      <th>T3</th>\n",
       "      <th>RH_3</th>\n",
       "      <th>T4</th>\n",
       "      <th>...</th>\n",
       "      <th>T9</th>\n",
       "      <th>RH_9</th>\n",
       "      <th>T_out</th>\n",
       "      <th>Press_mm_hg</th>\n",
       "      <th>RH_out</th>\n",
       "      <th>Windspeed</th>\n",
       "      <th>Visibility</th>\n",
       "      <th>Tdewpoint</th>\n",
       "      <th>rv1</th>\n",
       "      <th>rv2</th>\n",
       "    </tr>\n",
       "  </thead>\n",
       "  <tbody>\n",
       "    <tr>\n",
       "      <th>0</th>\n",
       "      <td>2016-01-11 17:00:00</td>\n",
       "      <td>60</td>\n",
       "      <td>30</td>\n",
       "      <td>19.89</td>\n",
       "      <td>47.596667</td>\n",
       "      <td>19.2</td>\n",
       "      <td>44.790000</td>\n",
       "      <td>19.79</td>\n",
       "      <td>44.730000</td>\n",
       "      <td>19.000000</td>\n",
       "      <td>...</td>\n",
       "      <td>17.033333</td>\n",
       "      <td>45.53</td>\n",
       "      <td>6.600000</td>\n",
       "      <td>733.5</td>\n",
       "      <td>92.0</td>\n",
       "      <td>7.000000</td>\n",
       "      <td>63.000000</td>\n",
       "      <td>5.3</td>\n",
       "      <td>13.275433</td>\n",
       "      <td>13.275433</td>\n",
       "    </tr>\n",
       "    <tr>\n",
       "      <th>1</th>\n",
       "      <td>2016-01-11 17:10:00</td>\n",
       "      <td>60</td>\n",
       "      <td>30</td>\n",
       "      <td>19.89</td>\n",
       "      <td>46.693333</td>\n",
       "      <td>19.2</td>\n",
       "      <td>44.722500</td>\n",
       "      <td>19.79</td>\n",
       "      <td>44.790000</td>\n",
       "      <td>19.000000</td>\n",
       "      <td>...</td>\n",
       "      <td>17.066667</td>\n",
       "      <td>45.56</td>\n",
       "      <td>6.483333</td>\n",
       "      <td>733.6</td>\n",
       "      <td>92.0</td>\n",
       "      <td>6.666667</td>\n",
       "      <td>59.166667</td>\n",
       "      <td>5.2</td>\n",
       "      <td>18.606195</td>\n",
       "      <td>18.606195</td>\n",
       "    </tr>\n",
       "    <tr>\n",
       "      <th>2</th>\n",
       "      <td>2016-01-11 17:20:00</td>\n",
       "      <td>50</td>\n",
       "      <td>30</td>\n",
       "      <td>19.89</td>\n",
       "      <td>46.300000</td>\n",
       "      <td>19.2</td>\n",
       "      <td>44.626667</td>\n",
       "      <td>19.79</td>\n",
       "      <td>44.933333</td>\n",
       "      <td>18.926667</td>\n",
       "      <td>...</td>\n",
       "      <td>17.000000</td>\n",
       "      <td>45.50</td>\n",
       "      <td>6.366667</td>\n",
       "      <td>733.7</td>\n",
       "      <td>92.0</td>\n",
       "      <td>6.333333</td>\n",
       "      <td>55.333333</td>\n",
       "      <td>5.1</td>\n",
       "      <td>28.642668</td>\n",
       "      <td>28.642668</td>\n",
       "    </tr>\n",
       "    <tr>\n",
       "      <th>3</th>\n",
       "      <td>2016-01-11 17:30:00</td>\n",
       "      <td>50</td>\n",
       "      <td>40</td>\n",
       "      <td>19.89</td>\n",
       "      <td>46.066667</td>\n",
       "      <td>19.2</td>\n",
       "      <td>44.590000</td>\n",
       "      <td>19.79</td>\n",
       "      <td>45.000000</td>\n",
       "      <td>18.890000</td>\n",
       "      <td>...</td>\n",
       "      <td>17.000000</td>\n",
       "      <td>45.40</td>\n",
       "      <td>6.250000</td>\n",
       "      <td>733.8</td>\n",
       "      <td>92.0</td>\n",
       "      <td>6.000000</td>\n",
       "      <td>51.500000</td>\n",
       "      <td>5.0</td>\n",
       "      <td>45.410389</td>\n",
       "      <td>45.410389</td>\n",
       "    </tr>\n",
       "    <tr>\n",
       "      <th>4</th>\n",
       "      <td>2016-01-11 17:40:00</td>\n",
       "      <td>60</td>\n",
       "      <td>40</td>\n",
       "      <td>19.89</td>\n",
       "      <td>46.333333</td>\n",
       "      <td>19.2</td>\n",
       "      <td>44.530000</td>\n",
       "      <td>19.79</td>\n",
       "      <td>45.000000</td>\n",
       "      <td>18.890000</td>\n",
       "      <td>...</td>\n",
       "      <td>17.000000</td>\n",
       "      <td>45.40</td>\n",
       "      <td>6.133333</td>\n",
       "      <td>733.9</td>\n",
       "      <td>92.0</td>\n",
       "      <td>5.666667</td>\n",
       "      <td>47.666667</td>\n",
       "      <td>4.9</td>\n",
       "      <td>10.084097</td>\n",
       "      <td>10.084097</td>\n",
       "    </tr>\n",
       "  </tbody>\n",
       "</table>\n",
       "<p>5 rows × 29 columns</p>\n",
       "</div>"
      ],
      "text/plain": [
       "                  date  Appliances  lights     T1       RH_1    T2       RH_2  \\\n",
       "0  2016-01-11 17:00:00          60      30  19.89  47.596667  19.2  44.790000   \n",
       "1  2016-01-11 17:10:00          60      30  19.89  46.693333  19.2  44.722500   \n",
       "2  2016-01-11 17:20:00          50      30  19.89  46.300000  19.2  44.626667   \n",
       "3  2016-01-11 17:30:00          50      40  19.89  46.066667  19.2  44.590000   \n",
       "4  2016-01-11 17:40:00          60      40  19.89  46.333333  19.2  44.530000   \n",
       "\n",
       "      T3       RH_3         T4  ...         T9   RH_9     T_out  Press_mm_hg  \\\n",
       "0  19.79  44.730000  19.000000  ...  17.033333  45.53  6.600000        733.5   \n",
       "1  19.79  44.790000  19.000000  ...  17.066667  45.56  6.483333        733.6   \n",
       "2  19.79  44.933333  18.926667  ...  17.000000  45.50  6.366667        733.7   \n",
       "3  19.79  45.000000  18.890000  ...  17.000000  45.40  6.250000        733.8   \n",
       "4  19.79  45.000000  18.890000  ...  17.000000  45.40  6.133333        733.9   \n",
       "\n",
       "   RH_out  Windspeed  Visibility  Tdewpoint        rv1        rv2  \n",
       "0    92.0   7.000000   63.000000        5.3  13.275433  13.275433  \n",
       "1    92.0   6.666667   59.166667        5.2  18.606195  18.606195  \n",
       "2    92.0   6.333333   55.333333        5.1  28.642668  28.642668  \n",
       "3    92.0   6.000000   51.500000        5.0  45.410389  45.410389  \n",
       "4    92.0   5.666667   47.666667        4.9  10.084097  10.084097  \n",
       "\n",
       "[5 rows x 29 columns]"
      ]
     },
     "execution_count": 2,
     "metadata": {},
     "output_type": "execute_result"
    }
   ],
   "source": [
    "edata = pd.read_csv(\"energydata_complete.csv\")\n",
    "edata.head()"
   ]
  },
  {
   "cell_type": "markdown",
   "id": "fb7c639c",
   "metadata": {},
   "source": [
    "### (12) From the dataset, fit a linear model on the relationship between the temperature in the living room in Celsius (x = T2) and the temperature outside the building (y = T6). What is the R^2 value in two d.p.?"
   ]
  },
  {
   "cell_type": "code",
   "execution_count": 3,
   "id": "12e0d7c5",
   "metadata": {},
   "outputs": [],
   "source": [
    "eda = edata[['T2','T6']]"
   ]
  },
  {
   "cell_type": "code",
   "execution_count": 4,
   "id": "77bb70f8",
   "metadata": {},
   "outputs": [],
   "source": [
    "features_data = eda.drop(columns=['T6'])\n",
    "target_var = eda['T6']"
   ]
  },
  {
   "cell_type": "code",
   "execution_count": 5,
   "id": "30fefd8a",
   "metadata": {},
   "outputs": [],
   "source": [
    "from sklearn.model_selection import train_test_split\n",
    "x_train, x_test, y_train, y_test = train_test_split(features_data, target_var,\n",
    "test_size=0.3, random_state=1)"
   ]
  },
  {
   "cell_type": "code",
   "execution_count": 6,
   "id": "5e195110",
   "metadata": {},
   "outputs": [],
   "source": [
    "from sklearn.linear_model import LinearRegression\n",
    "lr = LinearRegression()\n",
    "#fit the model to the training dataset\n",
    "lr.fit(x_train, y_train)\n",
    "\n",
    "#obtain predictions\n",
    "prediction = lr.predict(x_test)"
   ]
  },
  {
   "cell_type": "code",
   "execution_count": 7,
   "id": "2ca995a5",
   "metadata": {},
   "outputs": [
    {
     "data": {
      "text/plain": [
       "0.65"
      ]
     },
     "execution_count": 7,
     "metadata": {},
     "output_type": "execute_result"
    }
   ],
   "source": [
    "from sklearn.metrics import r2_score\n",
    "r2_score = r2_score(y_test, prediction)\n",
    "round(r2_score, 2) \n"
   ]
  },
  {
   "cell_type": "code",
   "execution_count": null,
   "id": "ca94d746",
   "metadata": {},
   "outputs": [],
   "source": []
  },
  {
   "cell_type": "code",
   "execution_count": null,
   "id": "0fa8b52d",
   "metadata": {},
   "outputs": [],
   "source": []
  },
  {
   "cell_type": "code",
   "execution_count": null,
   "id": "747491b7",
   "metadata": {},
   "outputs": [],
   "source": []
  },
  {
   "cell_type": "markdown",
   "id": "b3ea4d3d",
   "metadata": {},
   "source": [
    "### (13) Normalize the dataset using the MinMaxScaler after removing the following columns: [“date”, “lights”]. The target variable is “Appliances”. Use a 70-30 train-test set split with a random state of 42 (for reproducibility). Run a multiple linear regression using the training set and evaluate your model on the test set. Answer the following questions:\n",
    "\n",
    "### What is the Mean Absolute Error (in two decimal places)?"
   ]
  },
  {
   "cell_type": "code",
   "execution_count": 8,
   "id": "7b678285",
   "metadata": {},
   "outputs": [],
   "source": [
    "edata = edata.drop(columns=['date', 'lights'])"
   ]
  },
  {
   "cell_type": "code",
   "execution_count": 9,
   "id": "c47d3a3d",
   "metadata": {},
   "outputs": [],
   "source": [
    "from sklearn.preprocessing import MinMaxScaler\n",
    "scaler = MinMaxScaler()\n",
    "normalised_data = pd.DataFrame(scaler.fit_transform(edata), columns=edata.columns)\n",
    "features_data = normalised_data.drop(columns=['Appliances'])\n",
    "target = normalised_data['Appliances']\n",
    "\n",
    "#Now, we split our dataset into the training and testing dataset.\n",
    "\n",
    "from sklearn.model_selection import train_test_split\n",
    "x_train, x_test, y_train, y_test = train_test_split(features_data, target,\n",
    "test_size=0.3, random_state=42)\n"
   ]
  },
  {
   "cell_type": "code",
   "execution_count": 10,
   "id": "1f2738de",
   "metadata": {},
   "outputs": [
    {
     "data": {
      "text/plain": [
       "0.05"
      ]
     },
     "execution_count": 10,
     "metadata": {},
     "output_type": "execute_result"
    }
   ],
   "source": [
    "mlp = LinearRegression()\n",
    "#fit the model to the training dataset\n",
    "mlp.fit(x_train, y_train)\n",
    "#obtain predictions\n",
    "predicted_values = mlp.predict(x_test)\n",
    "\n",
    "#Now getting the Mean absolute error\n",
    "from sklearn.metrics import mean_absolute_error\n",
    "mae = mean_absolute_error(y_test, predicted_values)\n",
    "round(mae, 2) "
   ]
  },
  {
   "cell_type": "markdown",
   "id": "d55d7a5c",
   "metadata": {},
   "source": [
    "### (14)  What is the Residual Sum of Squares (in two decimal places)?"
   ]
  },
  {
   "cell_type": "code",
   "execution_count": 11,
   "id": "6c9e8517",
   "metadata": {},
   "outputs": [
    {
     "name": "stdout",
     "output_type": "stream",
     "text": [
      "The Residual Sum of Squares in two decimal places is 45.35\n"
     ]
    }
   ],
   "source": [
    "rss = np.sum(np.square(y_test - predicted_values))\n",
    "print('The Residual Sum of Squares in two decimal places is', round(rss, 2))"
   ]
  },
  {
   "cell_type": "markdown",
   "id": "66fc4b14",
   "metadata": {},
   "source": [
    "### (15) What is the Root Mean Squared Error (in three decimal places)?"
   ]
  },
  {
   "cell_type": "code",
   "execution_count": 12,
   "id": "facb400a",
   "metadata": {},
   "outputs": [
    {
     "data": {
      "text/plain": [
       "0.088"
      ]
     },
     "execution_count": 12,
     "metadata": {},
     "output_type": "execute_result"
    }
   ],
   "source": [
    "# Calculating the RMSE\n",
    "\n",
    "from sklearn.metrics import mean_squared_error\n",
    "rmse = np.sqrt(mean_squared_error(y_test, predicted_values))\n",
    "round(rmse, 3)"
   ]
  },
  {
   "cell_type": "markdown",
   "id": "ec4ef4ae",
   "metadata": {},
   "source": [
    "### (16) What is the Coefficient of Determination (in two decimal places)?"
   ]
  },
  {
   "cell_type": "code",
   "execution_count": 13,
   "id": "4e753293",
   "metadata": {},
   "outputs": [
    {
     "name": "stdout",
     "output_type": "stream",
     "text": [
      "The Coefficient of Determination in two decimal places =  0.15\n"
     ]
    }
   ],
   "source": [
    "from sklearn.metrics import r2_score\n",
    "r2_score = r2_score(y_test, predicted_values)\n",
    "print('The Coefficient of Determination in two decimal places = ',round(r2_score, 2))"
   ]
  },
  {
   "cell_type": "markdown",
   "id": "0351ebd0",
   "metadata": {},
   "source": [
    "### (17) Obtain the feature weights from your linear model above. Which features have the lowest and highest weights respectively?"
   ]
  },
  {
   "cell_type": "code",
   "execution_count": 14,
   "id": "7b451f4a",
   "metadata": {},
   "outputs": [
    {
     "data": {
      "text/html": [
       "<div>\n",
       "<style scoped>\n",
       "    .dataframe tbody tr th:only-of-type {\n",
       "        vertical-align: middle;\n",
       "    }\n",
       "\n",
       "    .dataframe tbody tr th {\n",
       "        vertical-align: top;\n",
       "    }\n",
       "\n",
       "    .dataframe thead th {\n",
       "        text-align: right;\n",
       "    }\n",
       "</style>\n",
       "<table border=\"1\" class=\"dataframe\">\n",
       "  <thead>\n",
       "    <tr style=\"text-align: right;\">\n",
       "      <th></th>\n",
       "      <th>Features</th>\n",
       "      <th>Linear_Model_Weight</th>\n",
       "    </tr>\n",
       "  </thead>\n",
       "  <tbody>\n",
       "    <tr>\n",
       "      <th>0</th>\n",
       "      <td>RH_2</td>\n",
       "      <td>-0.456698</td>\n",
       "    </tr>\n",
       "    <tr>\n",
       "      <th>1</th>\n",
       "      <td>T_out</td>\n",
       "      <td>-0.321860</td>\n",
       "    </tr>\n",
       "    <tr>\n",
       "      <th>2</th>\n",
       "      <td>T2</td>\n",
       "      <td>-0.236178</td>\n",
       "    </tr>\n",
       "    <tr>\n",
       "      <th>3</th>\n",
       "      <td>T9</td>\n",
       "      <td>-0.189941</td>\n",
       "    </tr>\n",
       "    <tr>\n",
       "      <th>4</th>\n",
       "      <td>RH_8</td>\n",
       "      <td>-0.157595</td>\n",
       "    </tr>\n",
       "    <tr>\n",
       "      <th>5</th>\n",
       "      <td>RH_out</td>\n",
       "      <td>-0.077671</td>\n",
       "    </tr>\n",
       "    <tr>\n",
       "      <th>6</th>\n",
       "      <td>RH_7</td>\n",
       "      <td>-0.044614</td>\n",
       "    </tr>\n",
       "    <tr>\n",
       "      <th>7</th>\n",
       "      <td>RH_9</td>\n",
       "      <td>-0.039800</td>\n",
       "    </tr>\n",
       "    <tr>\n",
       "      <th>8</th>\n",
       "      <td>T5</td>\n",
       "      <td>-0.015657</td>\n",
       "    </tr>\n",
       "    <tr>\n",
       "      <th>9</th>\n",
       "      <td>T1</td>\n",
       "      <td>-0.003281</td>\n",
       "    </tr>\n",
       "    <tr>\n",
       "      <th>10</th>\n",
       "      <td>rv1</td>\n",
       "      <td>0.000770</td>\n",
       "    </tr>\n",
       "    <tr>\n",
       "      <th>11</th>\n",
       "      <td>rv2</td>\n",
       "      <td>0.000770</td>\n",
       "    </tr>\n",
       "    <tr>\n",
       "      <th>12</th>\n",
       "      <td>Press_mm_hg</td>\n",
       "      <td>0.006839</td>\n",
       "    </tr>\n",
       "    <tr>\n",
       "      <th>13</th>\n",
       "      <td>T7</td>\n",
       "      <td>0.010319</td>\n",
       "    </tr>\n",
       "    <tr>\n",
       "      <th>14</th>\n",
       "      <td>Visibility</td>\n",
       "      <td>0.012307</td>\n",
       "    </tr>\n",
       "    <tr>\n",
       "      <th>15</th>\n",
       "      <td>RH_5</td>\n",
       "      <td>0.016006</td>\n",
       "    </tr>\n",
       "    <tr>\n",
       "      <th>16</th>\n",
       "      <td>RH_4</td>\n",
       "      <td>0.026386</td>\n",
       "    </tr>\n",
       "    <tr>\n",
       "      <th>17</th>\n",
       "      <td>T4</td>\n",
       "      <td>0.028981</td>\n",
       "    </tr>\n",
       "    <tr>\n",
       "      <th>18</th>\n",
       "      <td>Windspeed</td>\n",
       "      <td>0.029183</td>\n",
       "    </tr>\n",
       "    <tr>\n",
       "      <th>19</th>\n",
       "      <td>RH_6</td>\n",
       "      <td>0.038049</td>\n",
       "    </tr>\n",
       "    <tr>\n",
       "      <th>20</th>\n",
       "      <td>RH_3</td>\n",
       "      <td>0.096048</td>\n",
       "    </tr>\n",
       "    <tr>\n",
       "      <th>21</th>\n",
       "      <td>T8</td>\n",
       "      <td>0.101995</td>\n",
       "    </tr>\n",
       "    <tr>\n",
       "      <th>22</th>\n",
       "      <td>Tdewpoint</td>\n",
       "      <td>0.117758</td>\n",
       "    </tr>\n",
       "    <tr>\n",
       "      <th>23</th>\n",
       "      <td>T6</td>\n",
       "      <td>0.236425</td>\n",
       "    </tr>\n",
       "    <tr>\n",
       "      <th>24</th>\n",
       "      <td>T3</td>\n",
       "      <td>0.290627</td>\n",
       "    </tr>\n",
       "    <tr>\n",
       "      <th>25</th>\n",
       "      <td>RH_1</td>\n",
       "      <td>0.553547</td>\n",
       "    </tr>\n",
       "  </tbody>\n",
       "</table>\n",
       "</div>"
      ],
      "text/plain": [
       "       Features  Linear_Model_Weight\n",
       "0          RH_2            -0.456698\n",
       "1         T_out            -0.321860\n",
       "2            T2            -0.236178\n",
       "3            T9            -0.189941\n",
       "4          RH_8            -0.157595\n",
       "5        RH_out            -0.077671\n",
       "6          RH_7            -0.044614\n",
       "7          RH_9            -0.039800\n",
       "8            T5            -0.015657\n",
       "9            T1            -0.003281\n",
       "10          rv1             0.000770\n",
       "11          rv2             0.000770\n",
       "12  Press_mm_hg             0.006839\n",
       "13           T7             0.010319\n",
       "14   Visibility             0.012307\n",
       "15         RH_5             0.016006\n",
       "16         RH_4             0.026386\n",
       "17           T4             0.028981\n",
       "18    Windspeed             0.029183\n",
       "19         RH_6             0.038049\n",
       "20         RH_3             0.096048\n",
       "21           T8             0.101995\n",
       "22    Tdewpoint             0.117758\n",
       "23           T6             0.236425\n",
       "24           T3             0.290627\n",
       "25         RH_1             0.553547"
      ]
     },
     "execution_count": 14,
     "metadata": {},
     "output_type": "execute_result"
    }
   ],
   "source": [
    "def get_weights_df(model, feat, col_name):\n",
    "#this function returns the weight of every feature\n",
    "    weights = pd.Series(model.coef_, feat.columns).sort_values()\n",
    "    weights_df = pd.DataFrame(weights).reset_index()\n",
    "    weights_df.columns = ['Features', col_name]\n",
    "    weights_df[col_name].round(3)\n",
    "    return weights_df\n",
    "\n",
    "linear_model_weights = get_weights_df(mlp, x_train, 'Linear_Model_Weight')\n",
    "\n",
    "linear_model_weights\n",
    "\n",
    "\n"
   ]
  },
  {
   "cell_type": "code",
   "execution_count": 15,
   "id": "014efbeb",
   "metadata": {},
   "outputs": [],
   "source": [
    "min_weight = linear_model_weights['Linear_Model_Weight'].min()\n",
    "max_weight = linear_model_weights['Linear_Model_Weight'].max()"
   ]
  },
  {
   "cell_type": "code",
   "execution_count": 16,
   "id": "35618cc8",
   "metadata": {},
   "outputs": [
    {
     "data": {
      "text/plain": [
       "-0.4566979483385004"
      ]
     },
     "execution_count": 16,
     "metadata": {},
     "output_type": "execute_result"
    }
   ],
   "source": [
    "min_weight"
   ]
  },
  {
   "cell_type": "code",
   "execution_count": 17,
   "id": "9eb52181",
   "metadata": {},
   "outputs": [
    {
     "data": {
      "text/plain": [
       "0.5535465998386391"
      ]
     },
     "execution_count": 17,
     "metadata": {},
     "output_type": "execute_result"
    }
   ],
   "source": [
    "max_weight"
   ]
  },
  {
   "cell_type": "code",
   "execution_count": null,
   "id": "9428da1c",
   "metadata": {},
   "outputs": [],
   "source": []
  },
  {
   "cell_type": "code",
   "execution_count": null,
   "id": "6d4a5be4",
   "metadata": {},
   "outputs": [],
   "source": []
  },
  {
   "cell_type": "code",
   "execution_count": null,
   "id": "c2bcec74",
   "metadata": {},
   "outputs": [],
   "source": []
  },
  {
   "cell_type": "markdown",
   "id": "3c260ce7",
   "metadata": {},
   "source": [
    "### (18) Train a ridge regression model with an alpha value of 0.4. Is there any change to the root mean squared error (RMSE) when evaluated on the test set?"
   ]
  },
  {
   "cell_type": "markdown",
   "id": "e356dc83",
   "metadata": {},
   "source": [
    "#### Yes"
   ]
  },
  {
   "cell_type": "markdown",
   "id": "7e1b9347",
   "metadata": {},
   "source": [
    "### (19) Train a lasso regression model with an alpha value of 0.001 and obtain the new feature weights with it. How many of the features have non-zero feature weights?"
   ]
  },
  {
   "cell_type": "code",
   "execution_count": 18,
   "id": "790015e7",
   "metadata": {},
   "outputs": [
    {
     "data": {
      "text/plain": [
       "Lasso(alpha=0.001)"
      ]
     },
     "execution_count": 18,
     "metadata": {},
     "output_type": "execute_result"
    }
   ],
   "source": [
    "from sklearn.linear_model import Lasso\n",
    "lasso_reg = Lasso(alpha=0.001)\n",
    "lasso_reg.fit(x_train, y_train)\n"
   ]
  },
  {
   "cell_type": "code",
   "execution_count": 19,
   "id": "0141c48c",
   "metadata": {},
   "outputs": [],
   "source": [
    "lasso_weights_df = get_weights_df(lasso_reg, x_train, 'Lasso_weight')"
   ]
  },
  {
   "cell_type": "code",
   "execution_count": 20,
   "id": "5dbe096c",
   "metadata": {},
   "outputs": [],
   "source": [
    "complete_weights = lasso_weights_df"
   ]
  },
  {
   "cell_type": "code",
   "execution_count": 21,
   "id": "abc5f344",
   "metadata": {},
   "outputs": [
    {
     "data": {
      "text/html": [
       "<div>\n",
       "<style scoped>\n",
       "    .dataframe tbody tr th:only-of-type {\n",
       "        vertical-align: middle;\n",
       "    }\n",
       "\n",
       "    .dataframe tbody tr th {\n",
       "        vertical-align: top;\n",
       "    }\n",
       "\n",
       "    .dataframe thead th {\n",
       "        text-align: right;\n",
       "    }\n",
       "</style>\n",
       "<table border=\"1\" class=\"dataframe\">\n",
       "  <thead>\n",
       "    <tr style=\"text-align: right;\">\n",
       "      <th></th>\n",
       "      <th>Features</th>\n",
       "      <th>Lasso_weight</th>\n",
       "    </tr>\n",
       "  </thead>\n",
       "  <tbody>\n",
       "    <tr>\n",
       "      <th>0</th>\n",
       "      <td>RH_out</td>\n",
       "      <td>-0.049557</td>\n",
       "    </tr>\n",
       "    <tr>\n",
       "      <th>1</th>\n",
       "      <td>RH_8</td>\n",
       "      <td>-0.000110</td>\n",
       "    </tr>\n",
       "    <tr>\n",
       "      <th>2</th>\n",
       "      <td>T1</td>\n",
       "      <td>0.000000</td>\n",
       "    </tr>\n",
       "    <tr>\n",
       "      <th>3</th>\n",
       "      <td>Tdewpoint</td>\n",
       "      <td>0.000000</td>\n",
       "    </tr>\n",
       "    <tr>\n",
       "      <th>4</th>\n",
       "      <td>Visibility</td>\n",
       "      <td>0.000000</td>\n",
       "    </tr>\n",
       "    <tr>\n",
       "      <th>5</th>\n",
       "      <td>Press_mm_hg</td>\n",
       "      <td>-0.000000</td>\n",
       "    </tr>\n",
       "    <tr>\n",
       "      <th>6</th>\n",
       "      <td>T_out</td>\n",
       "      <td>0.000000</td>\n",
       "    </tr>\n",
       "    <tr>\n",
       "      <th>7</th>\n",
       "      <td>RH_9</td>\n",
       "      <td>-0.000000</td>\n",
       "    </tr>\n",
       "    <tr>\n",
       "      <th>8</th>\n",
       "      <td>T9</td>\n",
       "      <td>-0.000000</td>\n",
       "    </tr>\n",
       "    <tr>\n",
       "      <th>9</th>\n",
       "      <td>T8</td>\n",
       "      <td>0.000000</td>\n",
       "    </tr>\n",
       "    <tr>\n",
       "      <th>10</th>\n",
       "      <td>RH_7</td>\n",
       "      <td>-0.000000</td>\n",
       "    </tr>\n",
       "    <tr>\n",
       "      <th>11</th>\n",
       "      <td>rv1</td>\n",
       "      <td>-0.000000</td>\n",
       "    </tr>\n",
       "    <tr>\n",
       "      <th>12</th>\n",
       "      <td>T7</td>\n",
       "      <td>-0.000000</td>\n",
       "    </tr>\n",
       "    <tr>\n",
       "      <th>13</th>\n",
       "      <td>T6</td>\n",
       "      <td>0.000000</td>\n",
       "    </tr>\n",
       "    <tr>\n",
       "      <th>14</th>\n",
       "      <td>RH_5</td>\n",
       "      <td>0.000000</td>\n",
       "    </tr>\n",
       "    <tr>\n",
       "      <th>15</th>\n",
       "      <td>T5</td>\n",
       "      <td>-0.000000</td>\n",
       "    </tr>\n",
       "    <tr>\n",
       "      <th>16</th>\n",
       "      <td>RH_4</td>\n",
       "      <td>0.000000</td>\n",
       "    </tr>\n",
       "    <tr>\n",
       "      <th>17</th>\n",
       "      <td>T4</td>\n",
       "      <td>-0.000000</td>\n",
       "    </tr>\n",
       "    <tr>\n",
       "      <th>18</th>\n",
       "      <td>RH_3</td>\n",
       "      <td>0.000000</td>\n",
       "    </tr>\n",
       "    <tr>\n",
       "      <th>19</th>\n",
       "      <td>T3</td>\n",
       "      <td>0.000000</td>\n",
       "    </tr>\n",
       "    <tr>\n",
       "      <th>20</th>\n",
       "      <td>RH_2</td>\n",
       "      <td>-0.000000</td>\n",
       "    </tr>\n",
       "    <tr>\n",
       "      <th>21</th>\n",
       "      <td>T2</td>\n",
       "      <td>0.000000</td>\n",
       "    </tr>\n",
       "    <tr>\n",
       "      <th>22</th>\n",
       "      <td>RH_6</td>\n",
       "      <td>-0.000000</td>\n",
       "    </tr>\n",
       "    <tr>\n",
       "      <th>23</th>\n",
       "      <td>rv2</td>\n",
       "      <td>-0.000000</td>\n",
       "    </tr>\n",
       "    <tr>\n",
       "      <th>24</th>\n",
       "      <td>Windspeed</td>\n",
       "      <td>0.002912</td>\n",
       "    </tr>\n",
       "    <tr>\n",
       "      <th>25</th>\n",
       "      <td>RH_1</td>\n",
       "      <td>0.017880</td>\n",
       "    </tr>\n",
       "  </tbody>\n",
       "</table>\n",
       "</div>"
      ],
      "text/plain": [
       "       Features  Lasso_weight\n",
       "0        RH_out     -0.049557\n",
       "1          RH_8     -0.000110\n",
       "2            T1      0.000000\n",
       "3     Tdewpoint      0.000000\n",
       "4    Visibility      0.000000\n",
       "5   Press_mm_hg     -0.000000\n",
       "6         T_out      0.000000\n",
       "7          RH_9     -0.000000\n",
       "8            T9     -0.000000\n",
       "9            T8      0.000000\n",
       "10         RH_7     -0.000000\n",
       "11          rv1     -0.000000\n",
       "12           T7     -0.000000\n",
       "13           T6      0.000000\n",
       "14         RH_5      0.000000\n",
       "15           T5     -0.000000\n",
       "16         RH_4      0.000000\n",
       "17           T4     -0.000000\n",
       "18         RH_3      0.000000\n",
       "19           T3      0.000000\n",
       "20         RH_2     -0.000000\n",
       "21           T2      0.000000\n",
       "22         RH_6     -0.000000\n",
       "23          rv2     -0.000000\n",
       "24    Windspeed      0.002912\n",
       "25         RH_1      0.017880"
      ]
     },
     "execution_count": 21,
     "metadata": {},
     "output_type": "execute_result"
    }
   ],
   "source": [
    "complete_weights"
   ]
  },
  {
   "cell_type": "code",
   "execution_count": null,
   "id": "21df67bc",
   "metadata": {},
   "outputs": [],
   "source": []
  },
  {
   "cell_type": "markdown",
   "id": "4cbe58e5",
   "metadata": {},
   "source": [
    "### (20) What is the new RMSE with the lasso regression? (Answer should be in three (3) decimal places)"
   ]
  },
  {
   "cell_type": "code",
   "execution_count": 22,
   "id": "5b48899d",
   "metadata": {},
   "outputs": [
    {
     "data": {
      "text/plain": [
       "0.094"
      ]
     },
     "execution_count": 22,
     "metadata": {},
     "output_type": "execute_result"
    }
   ],
   "source": [
    "predicts = lasso_reg.predict(x_test)\n",
    "rmse = np.sqrt(mean_squared_error(y_test, predicts))\n",
    "round(rmse, 3)"
   ]
  },
  {
   "cell_type": "code",
   "execution_count": null,
   "id": "b422dea2",
   "metadata": {},
   "outputs": [],
   "source": [
    "\n"
   ]
  },
  {
   "cell_type": "code",
   "execution_count": 23,
   "id": "548886ae",
   "metadata": {},
   "outputs": [
    {
     "name": "stdout",
     "output_type": "stream",
     "text": [
      "The new Root Mean Squared Error with Lasso Regression is  0.094\n"
     ]
    }
   ],
   "source": [
    "print('The new Root Mean Squared Error with Lasso Regression is ', round(rmse, 3))"
   ]
  }
 ],
 "metadata": {
  "kernelspec": {
   "display_name": "Python 3 (ipykernel)",
   "language": "python",
   "name": "python3"
  },
  "language_info": {
   "codemirror_mode": {
    "name": "ipython",
    "version": 3
   },
   "file_extension": ".py",
   "mimetype": "text/x-python",
   "name": "python",
   "nbconvert_exporter": "python",
   "pygments_lexer": "ipython3",
   "version": "3.9.12"
  }
 },
 "nbformat": 4,
 "nbformat_minor": 5
}

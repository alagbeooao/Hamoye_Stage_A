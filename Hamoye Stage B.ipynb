{
 "cells": [
  {
   "cell_type": "markdown",
   "id": "fcdb9932",
   "metadata": {},
   "source": [
    "### (1) The percent of the total variation of the dependent variable Y explained by the set of independent variables X is measured by"
   ]
  },
  {
   "cell_type": "markdown",
   "id": "977e6425",
   "metadata": {},
   "source": [
    "#### Ans = Coefficient of Determination"
   ]
  },
  {
   "cell_type": "markdown",
   "id": "5070ec07",
   "metadata": {},
   "source": [
    "### (2)How do you define a Residual?"
   ]
  },
  {
   "cell_type": "markdown",
   "id": "563c1b2e",
   "metadata": {},
   "source": [
    "#### Ans = Y − Y"
   ]
  },
  {
   "cell_type": "markdown",
   "id": "68dc79ef",
   "metadata": {},
   "source": [
    "### (3) The straight line graph of the equation Y = a + BX, the slope is horizontal if"
   ]
  },
  {
   "cell_type": "markdown",
   "id": "153be3c6",
   "metadata": {},
   "source": [
    "#### Ans b = 0"
   ]
  },
  {
   "cell_type": "markdown",
   "id": "260dae99",
   "metadata": {},
   "source": [
    "### (4) Which of the one is true about Heteroskedasticity?"
   ]
  },
  {
   "cell_type": "markdown",
   "id": "d2ae04bb",
   "metadata": {},
   "source": [
    "#### Ans = Linear Regression with varying error terms"
   ]
  },
  {
   "cell_type": "markdown",
   "id": "cd27de8b",
   "metadata": {},
   "source": [
    "### (5) Generally, which of the following method(s) is used for predicting continuous dependent variables?"
   ]
  },
  {
   "cell_type": "markdown",
   "id": "c1641614",
   "metadata": {},
   "source": [
    "#### Ans = 1 only (Linear Regression)"
   ]
  },
  {
   "cell_type": "markdown",
   "id": "f5653bb4",
   "metadata": {},
   "source": [
    "### (6) From the following options below, which of these is/are true about “Ridge” or “Lasso” regression methods in case of feature selection?"
   ]
  },
  {
   "cell_type": "markdown",
   "id": "777faef5",
   "metadata": {},
   "source": [
    "#### Ans = Both use subset selection of features"
   ]
  },
  {
   "cell_type": "markdown",
   "id": "f2f72e1f",
   "metadata": {},
   "source": [
    "### (7) Which of the following sentences is/are true about outliers in Linear Regression:"
   ]
  },
  {
   "cell_type": "markdown",
   "id": "5dba33ee",
   "metadata": {},
   "source": [
    "\n",
    "#### Ans = Linear regression is sensitive to outliers"
   ]
  },
  {
   "cell_type": "markdown",
   "id": "0ebc4e64",
   "metadata": {},
   "source": [
    "### (8) Which of the following metrics can be used for evaluating regression models?"
   ]
  },
  {
   "cell_type": "markdown",
   "id": "0cea9f6a",
   "metadata": {},
   "source": [
    "#### ANs = 1, 2, 3 and 4"
   ]
  },
  {
   "cell_type": "markdown",
   "id": "d9405624",
   "metadata": {},
   "source": [
    "### (9) A best fit line relating X and Y has a R-Squared value of 0.75. How do I interpret this information?"
   ]
  },
  {
   "cell_type": "markdown",
   "id": "8688a416",
   "metadata": {},
   "source": [
    "#### Ans = 75% of the variance in Y is explained by X, X and Y are 75% related"
   ]
  },
  {
   "cell_type": "markdown",
   "id": "fc410bb0",
   "metadata": {},
   "source": [
    "### (10) Which of the following measures is optimal for comparing the goodness of the fit of competing regression models involving the same dependent variable?"
   ]
  },
  {
   "cell_type": "markdown",
   "id": "d9401bea",
   "metadata": {},
   "source": [
    "#### Ans = R-square"
   ]
  },
  {
   "cell_type": "markdown",
   "id": "40b4fd68",
   "metadata": {},
   "source": [
    "### (11) The Lasso can be interpreted as least-squares linear regression where:"
   ]
  },
  {
   "cell_type": "markdown",
   "id": "6cad8b0e",
   "metadata": {},
   "source": [
    "#### Ans =  Weights are regularized with the L1 norm"
   ]
  },
  {
   "cell_type": "code",
   "execution_count": 1,
   "id": "85f72854",
   "metadata": {},
   "outputs": [],
   "source": [
    "#import required libraries\n",
    "import pandas as pd \n",
    "import numpy as np\n",
    "import seaborn as sns\n",
    "import matplotlib.pyplot as plt"
   ]
  },
  {
   "cell_type": "code",
   "execution_count": 2,
   "id": "40d3175a",
   "metadata": {},
   "outputs": [
    {
     "data": {
      "text/html": [
       "<div>\n",
       "<style scoped>\n",
       "    .dataframe tbody tr th:only-of-type {\n",
       "        vertical-align: middle;\n",
       "    }\n",
       "\n",
       "    .dataframe tbody tr th {\n",
       "        vertical-align: top;\n",
       "    }\n",
       "\n",
       "    .dataframe thead th {\n",
       "        text-align: right;\n",
       "    }\n",
       "</style>\n",
       "<table border=\"1\" class=\"dataframe\">\n",
       "  <thead>\n",
       "    <tr style=\"text-align: right;\">\n",
       "      <th></th>\n",
       "      <th>date</th>\n",
       "      <th>Appliances</th>\n",
       "      <th>lights</th>\n",
       "      <th>T1</th>\n",
       "      <th>RH_1</th>\n",
       "      <th>T2</th>\n",
       "      <th>RH_2</th>\n",
       "      <th>T3</th>\n",
       "      <th>RH_3</th>\n",
       "      <th>T4</th>\n",
       "      <th>...</th>\n",
       "      <th>T9</th>\n",
       "      <th>RH_9</th>\n",
       "      <th>T_out</th>\n",
       "      <th>Press_mm_hg</th>\n",
       "      <th>RH_out</th>\n",
       "      <th>Windspeed</th>\n",
       "      <th>Visibility</th>\n",
       "      <th>Tdewpoint</th>\n",
       "      <th>rv1</th>\n",
       "      <th>rv2</th>\n",
       "    </tr>\n",
       "  </thead>\n",
       "  <tbody>\n",
       "    <tr>\n",
       "      <th>0</th>\n",
       "      <td>2016-01-11 17:00:00</td>\n",
       "      <td>60</td>\n",
       "      <td>30</td>\n",
       "      <td>19.89</td>\n",
       "      <td>47.596667</td>\n",
       "      <td>19.2</td>\n",
       "      <td>44.790000</td>\n",
       "      <td>19.79</td>\n",
       "      <td>44.730000</td>\n",
       "      <td>19.000000</td>\n",
       "      <td>...</td>\n",
       "      <td>17.033333</td>\n",
       "      <td>45.53</td>\n",
       "      <td>6.600000</td>\n",
       "      <td>733.5</td>\n",
       "      <td>92.0</td>\n",
       "      <td>7.000000</td>\n",
       "      <td>63.000000</td>\n",
       "      <td>5.3</td>\n",
       "      <td>13.275433</td>\n",
       "      <td>13.275433</td>\n",
       "    </tr>\n",
       "    <tr>\n",
       "      <th>1</th>\n",
       "      <td>2016-01-11 17:10:00</td>\n",
       "      <td>60</td>\n",
       "      <td>30</td>\n",
       "      <td>19.89</td>\n",
       "      <td>46.693333</td>\n",
       "      <td>19.2</td>\n",
       "      <td>44.722500</td>\n",
       "      <td>19.79</td>\n",
       "      <td>44.790000</td>\n",
       "      <td>19.000000</td>\n",
       "      <td>...</td>\n",
       "      <td>17.066667</td>\n",
       "      <td>45.56</td>\n",
       "      <td>6.483333</td>\n",
       "      <td>733.6</td>\n",
       "      <td>92.0</td>\n",
       "      <td>6.666667</td>\n",
       "      <td>59.166667</td>\n",
       "      <td>5.2</td>\n",
       "      <td>18.606195</td>\n",
       "      <td>18.606195</td>\n",
       "    </tr>\n",
       "    <tr>\n",
       "      <th>2</th>\n",
       "      <td>2016-01-11 17:20:00</td>\n",
       "      <td>50</td>\n",
       "      <td>30</td>\n",
       "      <td>19.89</td>\n",
       "      <td>46.300000</td>\n",
       "      <td>19.2</td>\n",
       "      <td>44.626667</td>\n",
       "      <td>19.79</td>\n",
       "      <td>44.933333</td>\n",
       "      <td>18.926667</td>\n",
       "      <td>...</td>\n",
       "      <td>17.000000</td>\n",
       "      <td>45.50</td>\n",
       "      <td>6.366667</td>\n",
       "      <td>733.7</td>\n",
       "      <td>92.0</td>\n",
       "      <td>6.333333</td>\n",
       "      <td>55.333333</td>\n",
       "      <td>5.1</td>\n",
       "      <td>28.642668</td>\n",
       "      <td>28.642668</td>\n",
       "    </tr>\n",
       "    <tr>\n",
       "      <th>3</th>\n",
       "      <td>2016-01-11 17:30:00</td>\n",
       "      <td>50</td>\n",
       "      <td>40</td>\n",
       "      <td>19.89</td>\n",
       "      <td>46.066667</td>\n",
       "      <td>19.2</td>\n",
       "      <td>44.590000</td>\n",
       "      <td>19.79</td>\n",
       "      <td>45.000000</td>\n",
       "      <td>18.890000</td>\n",
       "      <td>...</td>\n",
       "      <td>17.000000</td>\n",
       "      <td>45.40</td>\n",
       "      <td>6.250000</td>\n",
       "      <td>733.8</td>\n",
       "      <td>92.0</td>\n",
       "      <td>6.000000</td>\n",
       "      <td>51.500000</td>\n",
       "      <td>5.0</td>\n",
       "      <td>45.410389</td>\n",
       "      <td>45.410389</td>\n",
       "    </tr>\n",
       "    <tr>\n",
       "      <th>4</th>\n",
       "      <td>2016-01-11 17:40:00</td>\n",
       "      <td>60</td>\n",
       "      <td>40</td>\n",
       "      <td>19.89</td>\n",
       "      <td>46.333333</td>\n",
       "      <td>19.2</td>\n",
       "      <td>44.530000</td>\n",
       "      <td>19.79</td>\n",
       "      <td>45.000000</td>\n",
       "      <td>18.890000</td>\n",
       "      <td>...</td>\n",
       "      <td>17.000000</td>\n",
       "      <td>45.40</td>\n",
       "      <td>6.133333</td>\n",
       "      <td>733.9</td>\n",
       "      <td>92.0</td>\n",
       "      <td>5.666667</td>\n",
       "      <td>47.666667</td>\n",
       "      <td>4.9</td>\n",
       "      <td>10.084097</td>\n",
       "      <td>10.084097</td>\n",
       "    </tr>\n",
       "  </tbody>\n",
       "</table>\n",
       "<p>5 rows × 29 columns</p>\n",
       "</div>"
      ],
      "text/plain": [
       "                  date  Appliances  lights     T1       RH_1    T2       RH_2  \\\n",
       "0  2016-01-11 17:00:00          60      30  19.89  47.596667  19.2  44.790000   \n",
       "1  2016-01-11 17:10:00          60      30  19.89  46.693333  19.2  44.722500   \n",
       "2  2016-01-11 17:20:00          50      30  19.89  46.300000  19.2  44.626667   \n",
       "3  2016-01-11 17:30:00          50      40  19.89  46.066667  19.2  44.590000   \n",
       "4  2016-01-11 17:40:00          60      40  19.89  46.333333  19.2  44.530000   \n",
       "\n",
       "      T3       RH_3         T4  ...         T9   RH_9     T_out  Press_mm_hg  \\\n",
       "0  19.79  44.730000  19.000000  ...  17.033333  45.53  6.600000        733.5   \n",
       "1  19.79  44.790000  19.000000  ...  17.066667  45.56  6.483333        733.6   \n",
       "2  19.79  44.933333  18.926667  ...  17.000000  45.50  6.366667        733.7   \n",
       "3  19.79  45.000000  18.890000  ...  17.000000  45.40  6.250000        733.8   \n",
       "4  19.79  45.000000  18.890000  ...  17.000000  45.40  6.133333        733.9   \n",
       "\n",
       "   RH_out  Windspeed  Visibility  Tdewpoint        rv1        rv2  \n",
       "0    92.0   7.000000   63.000000        5.3  13.275433  13.275433  \n",
       "1    92.0   6.666667   59.166667        5.2  18.606195  18.606195  \n",
       "2    92.0   6.333333   55.333333        5.1  28.642668  28.642668  \n",
       "3    92.0   6.000000   51.500000        5.0  45.410389  45.410389  \n",
       "4    92.0   5.666667   47.666667        4.9  10.084097  10.084097  \n",
       "\n",
       "[5 rows x 29 columns]"
      ]
     },
     "execution_count": 2,
     "metadata": {},
     "output_type": "execute_result"
    }
   ],
   "source": [
    "edata = pd.read_csv(\"energydata_complete.csv\")\n",
    "edata.head()"
   ]
  },
  {
   "cell_type": "markdown",
   "id": "88d1141a",
   "metadata": {},
   "source": [
    "### (12) From the dataset, fit a linear model on the relationship between the temperature in the living room in Celsius (x = T2) and the temperature outside the building (y = T6). What is the R^2 value in two d.p.?"
   ]
  },
  {
   "cell_type": "code",
   "execution_count": 3,
   "id": "eaadf700",
   "metadata": {},
   "outputs": [],
   "source": [
    "eda = edata[['T2','T6']]"
   ]
  },
  {
   "cell_type": "code",
   "execution_count": 4,
   "id": "cb4e3dda",
   "metadata": {},
   "outputs": [],
   "source": [
    "features_data = eda.drop(columns=['T6'])\n",
    "target_var = eda['T6']"
   ]
  },
  {
   "cell_type": "code",
   "execution_count": 5,
   "id": "2b334cc7",
   "metadata": {},
   "outputs": [],
   "source": [
    "from sklearn.model_selection import train_test_split\n",
    "x_train, x_test, y_train, y_test = train_test_split(features_data, target_var,\n",
    "test_size=0.3, random_state=1)"
   ]
  },
  {
   "cell_type": "code",
   "execution_count": 6,
   "id": "0ecafc34",
   "metadata": {},
   "outputs": [],
   "source": [
    "from sklearn.linear_model import LinearRegression\n",
    "lr = LinearRegression()\n",
    "#fit the model to the training dataset\n",
    "lr.fit(x_train, y_train)\n",
    "\n",
    "#obtain predictions\n",
    "prediction = lr.predict(x_test)"
   ]
  },
  {
   "cell_type": "code",
   "execution_count": 7,
   "id": "80e41c68",
   "metadata": {},
   "outputs": [
    {
     "data": {
      "text/plain": [
       "0.65"
      ]
     },
     "execution_count": 7,
     "metadata": {},
     "output_type": "execute_result"
    }
   ],
   "source": [
    "from sklearn.metrics import r2_score\n",
    "r2_score = r2_score(y_test, prediction)\n",
    "round(r2_score, 2) \n"
   ]
  },
  {
   "cell_type": "code",
   "execution_count": null,
   "id": "5f6b6a79",
   "metadata": {},
   "outputs": [],
   "source": []
  },
  {
   "cell_type": "code",
   "execution_count": null,
   "id": "2bbd566c",
   "metadata": {},
   "outputs": [],
   "source": []
  },
  {
   "cell_type": "code",
   "execution_count": null,
   "id": "925d3aa0",
   "metadata": {},
   "outputs": [],
   "source": []
  },
  {
   "cell_type": "markdown",
   "id": "79d062ed",
   "metadata": {},
   "source": [
    "### (13) Normalize the dataset using the MinMaxScaler after removing the following columns: [“date”, “lights”]. The target variable is “Appliances”. Use a 70-30 train-test set split with a random state of 42 (for reproducibility). Run a multiple linear regression using the training set and evaluate your model on the test set. Answer the following questions:\n",
    "\n",
    "### What is the Mean Absolute Error (in two decimal places)?"
   ]
  },
  {
   "cell_type": "code",
   "execution_count": 8,
   "id": "c4ad286a",
   "metadata": {},
   "outputs": [],
   "source": [
    "edata = edata.drop(columns=['date', 'lights'])"
   ]
  },
  {
   "cell_type": "code",
   "execution_count": 9,
   "id": "bc9e77f8",
   "metadata": {},
   "outputs": [],
   "source": [
    "from sklearn.preprocessing import MinMaxScaler\n",
    "scaler = MinMaxScaler()\n",
    "normalised_data = pd.DataFrame(scaler.fit_transform(edata), columns=edata.columns)\n",
    "features_data = normalised_data.drop(columns=['Appliances'])\n",
    "target = normalised_data['Appliances']\n",
    "\n",
    "#Now, we split our dataset into the training and testing dataset.\n",
    "\n",
    "from sklearn.model_selection import train_test_split\n",
    "x_train, x_test, y_train, y_test = train_test_split(features_data, target,\n",
    "test_size=0.3, random_state=42)\n"
   ]
  },
  {
   "cell_type": "code",
   "execution_count": 10,
   "id": "8eacfdf0",
   "metadata": {},
   "outputs": [
    {
     "data": {
      "text/plain": [
       "0.05"
      ]
     },
     "execution_count": 10,
     "metadata": {},
     "output_type": "execute_result"
    }
   ],
   "source": [
    "mlp = LinearRegression()\n",
    "#fit the model to the training dataset\n",
    "mlp.fit(x_train, y_train)\n",
    "#obtain predictions\n",
    "predicted_values = mlp.predict(x_test)\n",
    "\n",
    "#Now getting the Mean absolute error\n",
    "from sklearn.metrics import mean_absolute_error\n",
    "mae = mean_absolute_error(y_test, predicted_values)\n",
    "round(mae, 2) "
   ]
  },
  {
   "cell_type": "markdown",
   "id": "1e793257",
   "metadata": {},
   "source": [
    "### (14)  What is the Residual Sum of Squares (in two decimal places)?"
   ]
  },
  {
   "cell_type": "code",
   "execution_count": 11,
   "id": "d16be08d",
   "metadata": {},
   "outputs": [
    {
     "ename": "NameError",
     "evalue": "name 'rss' is not defined",
     "output_type": "error",
     "traceback": [
      "\u001b[1;31m---------------------------------------------------------------------------\u001b[0m",
      "\u001b[1;31mNameError\u001b[0m                                 Traceback (most recent call last)",
      "Input \u001b[1;32mIn [11]\u001b[0m, in \u001b[0;36m<cell line: 2>\u001b[1;34m()\u001b[0m\n\u001b[0;32m      1\u001b[0m rsos \u001b[38;5;241m=\u001b[39m np\u001b[38;5;241m.\u001b[39msum(np\u001b[38;5;241m.\u001b[39msquare(y_test \u001b[38;5;241m-\u001b[39m predicted_values))\n\u001b[1;32m----> 2\u001b[0m \u001b[38;5;28mprint\u001b[39m(\u001b[38;5;124m'\u001b[39m\u001b[38;5;124mThe Residual Sum of Squares in two decimal places is\u001b[39m\u001b[38;5;124m'\u001b[39m, \u001b[38;5;28mround\u001b[39m(\u001b[43mrss\u001b[49m, \u001b[38;5;241m2\u001b[39m))\n",
      "\u001b[1;31mNameError\u001b[0m: name 'rss' is not defined"
     ]
    }
   ],
   "source": [
    "rss = np.sum(np.square(y_test - predicted_values))\n",
    "print('The Residual Sum of Squares in two decimal places is', round(rss, 2))"
   ]
  },
  {
   "cell_type": "markdown",
   "id": "07605848",
   "metadata": {},
   "source": [
    "### (15) What is the Root Mean Squared Error (in three decimal places)?"
   ]
  },
  {
   "cell_type": "code",
   "execution_count": null,
   "id": "0cb587ff",
   "metadata": {},
   "outputs": [],
   "source": [
    "# Calculating the RMSE\n",
    "\n",
    "from sklearn.metrics import mean_squared_error\n",
    "rmse = np.sqrt(mean_squared_error(y_test, predicted_values))\n",
    "round(rmse, 3)"
   ]
  },
  {
   "cell_type": "markdown",
   "id": "518517a3",
   "metadata": {},
   "source": [
    "### (16) What is the Coefficient of Determination (in two decimal places)?"
   ]
  },
  {
   "cell_type": "code",
   "execution_count": null,
   "id": "985c1120",
   "metadata": {},
   "outputs": [],
   "source": [
    "from sklearn.metrics import r2_score\n",
    "r2_score = r2_score(y_test, predicted_values)\n",
    "print('The Coefficient of Determination in two decimal places = ',round(r2_score, 2))"
   ]
  },
  {
   "cell_type": "markdown",
   "id": "7c53d952",
   "metadata": {},
   "source": [
    "### (17) Obtain the feature weights from your linear model above. Which features have the lowest and highest weights respectively?"
   ]
  },
  {
   "cell_type": "code",
   "execution_count": null,
   "id": "262b2dcd",
   "metadata": {},
   "outputs": [],
   "source": [
    "def get_weights_df(model, feat, col_name):\n",
    "#this function returns the weight of every feature\n",
    "    weights = pd.Series(model.coef_, feat.columns).sort_values()\n",
    "    weights_df = pd.DataFrame(weights).reset_index()\n",
    "    weights_df.columns = ['Features', col_name]\n",
    "    weights_df[col_name].round(3)\n",
    "    return weights_df\n",
    "\n",
    "linear_model_weights = get_weights_df(mlp, x_train, 'Linear_Model_Weight')\n",
    "\n",
    "linear_model_weights\n",
    "\n",
    "\n"
   ]
  },
  {
   "cell_type": "code",
   "execution_count": null,
   "id": "f231e199",
   "metadata": {},
   "outputs": [],
   "source": [
    "min_weight = linear_model_weights['Linear_Model_Weight'].min()\n",
    "max_weight = linear_model_weights['Linear_Model_Weight'].max()"
   ]
  },
  {
   "cell_type": "code",
   "execution_count": null,
   "id": "97005c6c",
   "metadata": {},
   "outputs": [],
   "source": [
    "min_weight"
   ]
  },
  {
   "cell_type": "code",
   "execution_count": null,
   "id": "055ca313",
   "metadata": {},
   "outputs": [],
   "source": [
    "max_weight"
   ]
  },
  {
   "cell_type": "code",
   "execution_count": null,
   "id": "58aef8cd",
   "metadata": {},
   "outputs": [],
   "source": []
  },
  {
   "cell_type": "code",
   "execution_count": null,
   "id": "c5836c4f",
   "metadata": {},
   "outputs": [],
   "source": []
  },
  {
   "cell_type": "code",
   "execution_count": null,
   "id": "c6410ed5",
   "metadata": {},
   "outputs": [],
   "source": []
  },
  {
   "cell_type": "markdown",
   "id": "22cf6899",
   "metadata": {},
   "source": [
    "### (18) Train a ridge regression model with an alpha value of 0.4. Is there any change to the root mean squared error (RMSE) when evaluated on the test set?"
   ]
  },
  {
   "cell_type": "markdown",
   "id": "131856e3",
   "metadata": {},
   "source": [
    "#### Yes"
   ]
  },
  {
   "cell_type": "markdown",
   "id": "82a94404",
   "metadata": {},
   "source": [
    "### (19) Train a lasso regression model with an alpha value of 0.001 and obtain the new feature weights with it. How many of the features have non-zero feature weights?"
   ]
  },
  {
   "cell_type": "code",
   "execution_count": null,
   "id": "61f470d6",
   "metadata": {},
   "outputs": [],
   "source": [
    "from sklearn.linear_model import Lasso\n",
    "lasso_reg = Lasso(alpha=0.001)\n",
    "lasso_reg.fit(x_train, y_train)\n"
   ]
  },
  {
   "cell_type": "code",
   "execution_count": null,
   "id": "ae30db00",
   "metadata": {},
   "outputs": [],
   "source": [
    "lasso_weights_df = get_weights_df(lasso_reg, x_train, 'Lasso_weight')"
   ]
  },
  {
   "cell_type": "code",
   "execution_count": null,
   "id": "2fd2b85a",
   "metadata": {},
   "outputs": [],
   "source": [
    "complete_weights = lasso_weights_df"
   ]
  },
  {
   "cell_type": "code",
   "execution_count": null,
   "id": "8991ad34",
   "metadata": {},
   "outputs": [],
   "source": [
    "complete_weights"
   ]
  },
  {
   "cell_type": "code",
   "execution_count": null,
   "id": "0b5cba89",
   "metadata": {},
   "outputs": [],
   "source": []
  },
  {
   "cell_type": "markdown",
   "id": "f3fa2ced",
   "metadata": {},
   "source": [
    "### (20) What is the new RMSE with the lasso regression? (Answer should be in three (3) decimal places)"
   ]
  },
  {
   "cell_type": "code",
   "execution_count": null,
   "id": "19803e08",
   "metadata": {},
   "outputs": [],
   "source": [
    "predicts = lasso_reg.predict(x_test)\n",
    "rmse = np.sqrt(mean_squared_error(y_test, predicts))\n",
    "round(rmse, 3)"
   ]
  },
  {
   "cell_type": "code",
   "execution_count": null,
   "id": "4ba9df5b",
   "metadata": {},
   "outputs": [],
   "source": [
    "\n"
   ]
  },
  {
   "cell_type": "code",
   "execution_count": null,
   "id": "44e2efcc",
   "metadata": {},
   "outputs": [],
   "source": [
    "print('The new Root Mean Squared Error with Lasso Regression is ', round(rmse, 3))"
   ]
  }
 ],
 "metadata": {
  "kernelspec": {
   "display_name": "Python 3 (ipykernel)",
   "language": "python",
   "name": "python3"
  },
  "language_info": {
   "codemirror_mode": {
    "name": "ipython",
    "version": 3
   },
   "file_extension": ".py",
   "mimetype": "text/x-python",
   "name": "python",
   "nbconvert_exporter": "python",
   "pygments_lexer": "ipython3",
   "version": "3.9.12"
  }
 },
 "nbformat": 4,
 "nbformat_minor": 5
}
